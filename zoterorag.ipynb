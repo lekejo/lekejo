{
  "cells": [
    {
      "cell_type": "markdown",
      "metadata": {
        "id": "view-in-github",
        "colab_type": "text"
      },
      "source": [
        "<a href=\"https://colab.research.google.com/github/lekejo/lekejo/blob/main/zoterorag.ipynb\" target=\"_parent\"><img src=\"https://colab.research.google.com/assets/colab-badge.svg\" alt=\"Open In Colab\"/></a>"
      ]
    },
    {
      "cell_type": "code",
      "execution_count": null,
      "metadata": {
        "id": "5Tflw96wu75P"
      },
      "outputs": [],
      "source": [
        "!pip install pyzotero chromadb thepipe-api tqdm"
      ]
    },
    {
      "cell_type": "code",
      "execution_count": null,
      "metadata": {
        "id": "ojbH831lu75S"
      },
      "outputs": [],
      "source": [
        "from pyzotero import zotero\n",
        "from thepipe.scraper import scrape_file\n",
        "from thepipe.chunker import chunk_by_page\n",
        "from openai import OpenAI\n",
        "from tqdm import tqdm\n",
        "import chromadb\n",
        "import time\n",
        "import os\n",
        "\n",
        "# Set up environment variables\n",
        "os.environ[\"ZOTERO_USER_ID\"] = \"...\"\n",
        "os.environ[\"ZOTERO_API_KEY\"] = \"...\"\n",
        "os.environ[\"THEPIPE_API_KEY\"] = \"...\"\n",
        "os.environ[\"LLM_SERVER_API_KEY\"] = \"...\"\n",
        "os.environ[\"LLM_SERVER_BASE_URL\"] = \"...\""
      ]
    },
    {
      "cell_type": "code",
      "execution_count": null,
      "metadata": {
        "id": "SvAg33umu75S"
      },
      "outputs": [],
      "source": [
        "# Initialize ChomaDB\n",
        "chroma_client = chromadb.PersistentClient(path=\"chromadb\")\n",
        "collection = chroma_client.get_or_create_collection(name=\"zotero_papers\")\n",
        "\n",
        "# Initialize LLM client\n",
        "llm_client = OpenAI(\n",
        "    base_url=os.environ[\"LLM_SERVER_BASE_URL\"],\n",
        "    api_key=os.environ[\"LLM_SERVER_API_KEY\"],\n",
        ")\n",
        "\n",
        "# Initialize Zotero client for user (use group id and \"group\" for group libraries)\n",
        "zot = zotero.Zotero(\n",
        "    library_id=os.environ.get(\"ZOTERO_USER_ID\"),\n",
        "    library_type=\"user\",\n",
        "    api_key=os.environ.get(\"ZOTERO_API_KEY\")\n",
        ")"
      ]
    },
    {
      "cell_type": "code",
      "execution_count": null,
      "metadata": {
        "id": "uvblGaJiu75T",
        "outputId": "08bf4849-1f14-4fa9-e48b-ff5366756957"
      },
      "outputs": [
        {
          "name": "stderr",
          "output_type": "stream",
          "text": [
            "  0%|          | 0/4 [00:00<?, ?it/s]"
          ]
        },
        {
          "name": "stdout",
          "output_type": "stream",
          "text": [
            "Downloaded: Finnerty_2024_AJ_167_43.pdf\n",
            "Scraped 13 chunks from Finnerty_2024_AJ_167_43.pdf\n"
          ]
        },
        {
          "name": "stderr",
          "output_type": "stream",
          "text": [
            " 25%|██▌       | 1/4 [01:20<04:01, 80.57s/it]"
          ]
        },
        {
          "name": "stdout",
          "output_type": "stream",
          "text": [
            "Added 13 chunks to collection\n",
            "Downloaded: temp6172320900388794792.pdf\n"
          ]
        },
        {
          "name": "stderr",
          "output_type": "stream",
          "text": [
            "100%|██████████| 4/4 [01:59<00:00, 29.82s/it]"
          ]
        },
        {
          "name": "stdout",
          "output_type": "stream",
          "text": [
            "Scraped 4 chunks from temp6172320900388794792.pdf\n",
            "Added 4 chunks to collection\n"
          ]
        },
        {
          "name": "stderr",
          "output_type": "stream",
          "text": [
            "\n"
          ]
        }
      ],
      "source": [
        "from thepipe.scraper import scrape_file\n",
        "from thepipe.chunker import chunk_by_page\n",
        "from tqdm import tqdm\n",
        "import time\n",
        "\n",
        "# Create 'pdfs' directory if it doesn't exist\n",
        "os.makedirs(\"pdfs\", exist_ok=True)\n",
        "\n",
        "# Retrieve all items\n",
        "items = zot.everything(zot.top())\n",
        "\n",
        "for item in tqdm(items):\n",
        "    if 'contentType' in item['data'] and item['data']['contentType'] == 'application/pdf':\n",
        "        item_key = item['data']['key']\n",
        "        filename = item['data'].get('filename', None)\n",
        "\n",
        "        # Skip if not a PDF\n",
        "        if not filename or not filename.endswith('.pdf'):\n",
        "            continue\n",
        "\n",
        "        file_path = os.path.join(\"pdfs\", filename)\n",
        "\n",
        "        # Download the file\n",
        "        with open(file_path, 'wb') as f:\n",
        "            f.write(zot.file(item_key))\n",
        "        print(f\"Downloaded: {filename}\")\n",
        "\n",
        "        # Scrape the file\n",
        "        chunks = scrape_file(file_path, ai_extraction=True, text_only=True, local=True, chunking_method=chunk_by_page)\n",
        "        print(f\"Scraped {len(chunks)} chunks from {filename}\")\n",
        "\n",
        "        # Add chunks to collection\n",
        "        for chunk in chunks:\n",
        "            chunk_text = '\\n'.join(chunk.texts)\n",
        "            collection.add(\n",
        "                documents=[chunk_text],\n",
        "                metadatas=[{\"source\": chunk.path}],\n",
        "                ids=[str(time.time_ns())],\n",
        "            )\n",
        "        print(f\"Added {len(chunks)} chunks to collection\")"
      ]
    },
    {
      "cell_type": "code",
      "execution_count": null,
      "metadata": {
        "id": "ncmdqyOOu75T",
        "outputId": "2b03e107-f3e6-48ce-f842-e3ebe6bb39fd"
      },
      "outputs": [
        {
          "name": "stdout",
          "output_type": "stream",
          "text": [
            "Retrieved context to use for LLM generation:\n",
            "<Document source='pdfs\\Finnerty_2024_AJ_167_43.pdf'>\n",
            "# The Astronomical Journal, 167:43 (13pp), 2024 January\n",
            "\n",
            "## Figure 3\n",
            "\n",
            "### Retrieved P−T Profile\n",
            "- **Top Left**: Retrieved P−T profile\n",
            "- **Top Right**: Maximum-likelihood emission contribution function\n",
            "- **Middle**: Maximum-likelihood planet spectrum\n",
            "- **Bottom**: Opacities for H₂O, CO, NH₃, and CH₄\n",
            "\n",
            "The observed NIRSPEC orders are shaded in gray. In addition to the maximum-likelihood and median P−T profiles, the top left also includes the corresponding cloud-top pressures as dashed horizontal lines and the P−T profiles from 100 draws from the retrieved posterior. \n",
            "\n",
            "While several parameters are poorly constrained in the corner plots, the actual P−T profiles follow a tight distribution. The emission contribution function shows the emission mostly arises near 100 mbar, just above the cloud deck, with contribution from higher altitudes in the CO line cores. \n",
            "\n",
            "The dashed blue line plotted with the maximum-likelihood spectrum shows the flux from a 1200 K blackbody, which as expected is comparable to the retrieved planet flux. The slope of the retrieved spectrum differs from a blackbody as a result of CO and especially H₂O absorption features at the red end of the K band. \n",
            "\n",
            "Our retrievals provide only upper limits on NH₃ and CH₄ abundances despite these species’ substantial opacity across the entire observed band, suggesting that the limits indicate a real absence of these species.\n",
            "\n",
            "---\n",
            "\n",
            "## Additional Analysis\n",
            "\n",
            "Both retrievals. Initial analysis of another hot Jupiter observed with KPIC (L. Finnerty et al. 2023, in preparation) is also showing a similar preference for a higher-than-expected scale factor that is countered by a cooler-than-expected P–T profile to match the expected continuum level. \n",
            "\n",
            "This strongly suggests our free-retrieval framework has limited sensitivity to absolute temperature from the K-band data alone, but that this uncertainty does not significantly impact the retrieved atmospheric composition. \n",
            "\n",
            "Finally, we also note that residual continuum slopes or offsets in either the data or the model could also result in a spurious preference for a larger scale factor. In this case, the scale factor parameter is attempting to...\n",
            "</Document>\n",
            "<Document source='pdfs\\Finnerty_2024_AJ_167_43.pdf'>\n",
            "# The Astronomical Journal, 167:43 (13pp), 2024 January\n",
            "\n",
            "## Table 2\n",
            "### List of Parameters, Priors, and Results for Atmospheric Retrievals\n",
            "\n",
            "| Name                                   | Symbol       | Prior               | Retrieved Max-L | Retrieved Median |\n",
            "|----------------------------------------|--------------|---------------------|------------------|------------------|\n",
            "| Log infrared opacity (cm² g⁻¹)        | log k       | Uniform(−3, 0)     | −1.0             | 1.1 ± 0.4        |\n",
            "| Log infrared/optical opacity           | log g       | Uniform(−1.5, −0.3) | −1.4             | 1.3 ± 0.2        |\n",
            "| Internal temperature (K)               | Tint        | Uniform(50, 300)    | 140              | 200 ± 100        |\n",
            "| Equilibrium temperature (K)            | Tequ        | Uniform(400,1500)   | 800              | 800 ± 100        |\n",
            "| Gray cloud pressure (bar)              | P_log_cloud | Uniform(−2,1)       | −1.0             | 0.3 ± 0.6        |\n",
            "| Kp offset (km s⁻¹)                    | ΔKp         | Uniform(−40, 40)    | 6.4              | 7.0 ± 8.3        |\n",
            "| vsys offset (km s⁻¹)                  | Δvsys       | Uniform(−15, 15)    | −7.3             | 6.4 ± 3.6        |\n",
            "| Velocity broadening kernel (km s⁻¹)   | vbroad      | Uniform(1,20)       | 16.9             | 16.0 ± 1.0       |\n",
            "| Log H₂O mass-mixing ratio              | log H₂O     | Uniform(−4, −0.3)   | −1.7             | 2.0 ± 0.4        |\n",
            "| Log CO mass-mixing ratio               | log CO      | Uniform(−4, −0.3)   | −1.8             | 2.2 ± 0.5        |\n",
            "| Log CH₄ mass-mixing ratio              | log CH₄     | Uniform(−8,−1)      | −7.4             | 6.7 ± 0.9        |\n",
            "| Log NH₃ mass-mixing ratio              | log NH₃     | Uniform(−8,−2)      | −4.8             | 6.5 ± 1.0        |\n",
            "| Log HCN mass-mixing ratio              | log HCN     | Uniform(−8, −2)     | −5.8             | 5.4 ± 1.7        |\n",
            "| Log H₂S mass-mixing ratio              | log H₂S     | Uniform(−8,−3)      | −7.7             | 5.6 ± 1.6        |\n",
            "| Log ¹³CO/¹²CO mass-mixing ratio       | log ¹³CO/¹²CO | Uniform(−3, −0.3) | −0.8             | 1.0 ± 0.8        |\n",
            "| Log H₂ mass-mixing ratio               | log H₂      | Uniform(−0.4, −0.05)| −0.36            | 0.26 ± 0.10      |\n",
            "| Scale factor                           | scale        | Uniform(0,5)        | 4.9              | 4.5 ± 0.7        |\n",
            "\n",
            "### Derived Parameters\n",
            "\n",
            "| Parameter                       | Symbol | Retrieved Max-L | Retrieved Median |\n",
            "|---------------------------------|--------|------------------|------------------|\n",
            "| Carbon/oxygen ratio             | C/O    | 0.32             | 0.3 ± 0.1        |\n",
            "| Carbon abundance                 | [C/H]  | −2.6             | −3.1 ± 0.5       |\n",
            "| Oxygen abundance                 | [O/H]  | −2.1             | −2.5 ± 0.4       |\n",
            "\n",
            "**Note:** The error bars on the retrieved medians correspond to the 68%/1σ confidence interval. In addition to these priors, we required both a noninverted P−T profile and that the atmospheric temperature stay below 3000 K at all pressure levels. The full corner plot is included in Appendix A.\n",
            "\n",
            "---\n",
            "\n",
            "## Complex Degeneracies\n",
            "\n",
            "The Guillot (2010) parameterization is more constraining in its physical assumptions, making it better suited to the limited wavelength range of these observations and enabling looser, physically motivated priors for the P−T parameters. Retrieved molecular abundances were generally consistent between both parameterizations. At all pressures, we require 100 K < T < 3000 K for physical consistency and to avoid hitting the bounds of our opacity tables. We also include a gray cloud deck and use the scattering mode of petitRADTRANS.\n",
            "\n",
            "We fit for vertically fixed abundances (not necessarily in chemical equilibrium) of H₂O, ¹²CO, CH₄, NH₃, HCN, H₂S, and the ¹³CO/¹²CO ratio. For H₂O, ¹²CO, and ¹³CO we used the high-temperature opacity tables described in Finnerty et al. (2023b). For CH₄, we used the opacity table computed in Xuan et al. (2022) from the Hargreaves et al. (2020) line list. For NH₃ (line list: Yurchenko et al. 2011), HCN (line list: Harris et al. 2006; Barber et al. 2014), and H₂S (line list: Rothman et al. 2013), we used the petitRADTRANS high-resolution opacity tables described in Mollière & Snellen (2019). Collision-induced absorption (CIA) from H₂–H₂ to H₂–He are also included. We fit for the abundance of H₂, though we do not include H₂ line opacity. The remaining mass of the atmosphere is assumed to be helium. As we do not include H₂ line opacity, the retrieved H₂ abundance reflects the best-fit mean molecular weight via the impact on the CIA, rather than strengths of H₂ lines in the planetary spectrum.\n",
            "\n",
            "We use a PHOENIX model for the star with T_eff = 5000 K, log g = 4.5, and [Fe/H] = 0.0, which has been broadened to v_i sin = 1.8 km s⁻¹ (Polanski et al. 2022). While Finnerty et al. (2023b) fixed the size of the Gaussian broadening kernel to a value found by varying the kernel size for a fixed planet model and maximizing the likelihood, in this work we set the kernel width to σ = 1.2 pixels, slightly smaller than the expected value for the instrument, and apply a rotational broadening kernel to the atmospheric forward model using the fast technique described in Carvalho & Johns-Krull (2023), which accounts for the wavelength dependence of the rotational kernel. The size of this kernel is a free parameter in the fit, allowing us to determine the best-fit line width accounting for coadd-induced LSF variations and the change in projected planetary velocity within a single coadd.\n",
            "\n",
            "The nested sampling was performed with dynesty (Speagle 2020) using 1200 live points, running to a log D = 0.01 stopping criteria. The retrieval took approximately 4 days with 16 Intel E5-2670 CPU cores, totaling about 60 days of CPU time. The significant increase in runtime compared with Finnerty et al. (2023b) is a result of including scattering in the radiative-transfer calculation.\n",
            "\n",
            "---\n",
            "\n",
            "## 3. Results\n",
            "\n",
            "Table 2 presents the priors and results from the retrieval, including both the maximum-likelihood and median retrieved values. We discuss the velocity parameters in Section 3.1, the P−T profile and thermal properties in Section 3.2, and the chemical abundances in Section 3.3. The full corner plot is included in Appendix A.\n",
            "\n",
            "### 3.1. Velocity and Winds\n",
            "\n",
            "The v_sys−Kp diagram for the maximum-likelihood planet model is shown in Figure 2. Note that self-division of the planet spectrum results in substantial structure far from the planet peak, which prevents an accurate estimation of detection.\n",
            "</Document>\n",
            "<Document source='pdfs\\Finnerty_2024_AJ_167_43.pdf'>\n",
            "# The Astronomical Journal, 167:43 (13pp), 2024 January\n",
            "## Finnerty et al.\n",
            "\n",
            "### Figure 4\n",
            "Retrieved molecular abundances (solid lines, 1σ shaded) compared with the equilibrium abundances estimated from easychem (dashed lines). The equilibrium abundances are consistent with C/O = 0.25 and [M/H] = +0.05, both slightly below the values obtained from the gas-phase-only retrieval. The equilibrium model predicts H2S and CH4 abundances substantially greater than the retrieved upper limits. These species may be photochemically depleted.\n",
            "\n",
            "---\n",
            "\n",
            "### 4.3. CH4 and Photochemistry\n",
            "Similar to Finnerty et al. (2023b), we compare our retrieved abundances with the results of the equilibrium chemistry calculator easyCHEM (Mollière et al. 2017; E. Lei et al. 2023, in preparation) for the retrieved P−T profile. Figure 4 plots the equilibrium vertical abundance profiles with the constant vertical abundances from our retrievals. The retrieved CO and H2O abundances are a good match to the equilibrium predictions for C/O = 0.25 and [M/H] = 0.05, suggesting the gas-phase retrieval may be slightly overestimating the atmospheric metallicity. Both H2O and CO abundances are roughly constant with height in equilibrium, validating the constant-with-altitude assumption in our retrieval and indicating that the potential biases resulting from high-altitude H2O depletion in ultra-hot Jupiters (Brogi et al. 2023) are not a factor for HD 189733 b.\n",
            "\n",
            "The cumulative distribution function (CDF) of the retrieved CH4 posterior indicates logCH4 < −4.6 with 99% confidence. However, Figure 4 indicates that in chemical equilibrium for the retrieved P−T profile, the CH4 mass fraction should be >10−4 over nearly the entire pressure range probed by the KPIC observations in order to match the retrieved H2O and CO abundances. We caution that the retrieved P−T profile in Figure 3 is somewhat colder than expected in the upper atmosphere, which may lead to an overprediction of CH4 when assuming chemical equilibrium. While previous attempts at CH4 detection in hot Jupiters have faced challenges with line list accuracy, we use an opacity table based on the recent Hargreaves et al. (2020) line list which has been validated on brown dwarfs of similar effective temperature (Tannock et al. 2022). This opacity table has also previously been used to successfully measure the CH4 abundance in a brown dwarf companion from KPIC observations at a mixing ratio comparable to that expected in HD 189733 b (Xuan et al. 2022). This suggests that the retrieved upper limit on CH4 is due to a real absence of the expected CH4, rather than a line list issue.\n",
            "\n",
            "Depletion of CH4 could be due to photochemistry. We assessed this possibility using the VULCAN chemical kinetics code (Tsai et al. 2021). We used the default P−T/Kzz profile for HD 189733 b included with VULCAN and described in Tsai et al. (2021), which is slightly hotter than our retrieved profile in the upper atmosphere, the SNCHO photochemistry network, and the C/H and O/H set to the retrieved medians. All other settings were unchanged from the VULCAN defaults. VULCAN predicts a roughly constant CH4 mass fraction of ∼10−5 from pressures between approximately 1 and 10−3 bar. Over the same pressure range, the NH3 mass fraction is predicted to be ∼10−4. The abundance of both species rapidly drops above 1 mbar, which may bias the abundances obtained from a free retrieval assuming constant abundance with pressure toward lower values, similar to the impact of water depletion in the upper atmospheres of ultra-hot Jupiters discussed in Brogi et al. (2023).\n",
            "\n",
            "From the retrieved posterior, we obtain 99% upper limits logCH4 < −4.6 and logNH3 < −4.5, suggesting the current KPIC observations are not quite sensitive enough to make a definitive (non)detection at the VULCAN-predicted abundances. Both CH4 and NH3 have significant opacity throughout the NIR. Incorporating additional data such as high-resolution L-band observations from KPIC phase III may improve sensitivity to these species and enable tests of photochemical models in the future. Additionally, incorporating flux-calibrated, broadband medium-resolution observations from JWST would significantly improve constraints on absolute abundances compared with high-resolution observations alone, and also enable constraints on species which lack features easy to observe from the ground, such as CO2.\n",
            "\n",
            "### 4.4. 13CO Enrichment\n",
            "While the CO isotopologue ratio is not well constrained in the retrieval, comparing the log-likelihood of the maximum-likelihood model with and without 13CO indicates the presence of 13CO is favored at ∼3σ. The marginalized posterior shows a clear preference for high levels of 13CO enrichment compared with both the solar system value of 12C/13C ∼89 and local interstellar value of 12C/13C ∼68 (Milam et al. 2005; Woods & Willacy 2009), but with a long tail that is still consistent with the interstellar value at 1σ. Previously, Finnerty et al. (2023b) and Line et al. (2021) reported indications of 13CO enrichment in hot Jupiter atmospheres compared with the local interstellar medium. These estimates are substantially less than the median retrieved for HD 189733 b, and were instead broadly consistent with the level of isotopic fractionation expected in the midplanes of protoplanetary disks (Woods & Willacy 2009).\n",
            "\n",
            "Carbon isotopologue constraints have also been obtained for widely separated companions. Zhang et al. (2021b) found a roughly solar value for the 12CO/13CO ratio in a young field.\n",
            "\n",
            "---\n",
            "\n",
            "**Page 8**\n",
            "</Document>\n",
            "\n"
          ]
        }
      ],
      "source": [
        "# Example query for retrieval-augmented generation\n",
        "query = \"Which figure shows retrieved P−T profile, maximum-likelihood spectra, and opacities? And for which chemicals does it show this data?\"\n",
        "\n",
        "# Query the collection\n",
        "results = collection.query(\n",
        "    query_texts=[query],\n",
        "    n_results=3  # Retrieve top 3 most relevant chunks\n",
        ")\n",
        "\n",
        "# Prepare context from retrieved chunks\n",
        "# context = \"\\n\".join(results['documents'][0])\n",
        "\n",
        "# if you want cited sources, you can use the following code\n",
        "context = \"\"\n",
        "for source, text in zip(results['metadatas'][0], results['documents'][0]):\n",
        "    context += f\"<Document source='{source['source']}'>\\n{text}\\n</Document>\\n\"\n",
        "\n",
        "print(\"Retrieved context to use for LLM generation:\")\n",
        "print(context)"
      ]
    },
    {
      "cell_type": "code",
      "execution_count": null,
      "metadata": {
        "id": "dQrlgD4du75T",
        "outputId": "f2ad7a67-5ef6-4605-b5d5-308738ad6c17"
      },
      "outputs": [
        {
          "name": "stdout",
          "output_type": "stream",
          "text": [
            "LLM generation: \n",
            "\n",
            "Figure 3 shows the retrieved P−T profile, maximum-likelihood emission contribution function, maximum-likelihood planet spectrum, and opacities for H2O, CO, NH3, and CH4.\n"
          ]
        }
      ],
      "source": [
        "# Prepare messages for OpenRouter\n",
        "messages = [\n",
        "    {\"role\": \"system\", \"content\": \"You are a helpful scientific assistant. Use the provided context to answer the user's question.\"},\n",
        "    {\"role\": \"user\", \"content\": f\"Context:\\n{context}\\nUser query: {query}\"}\n",
        "]\n",
        "\n",
        "# Call OpenRouter API\n",
        "response = llm_client.chat.completions.create(\n",
        "    model=\"meta-llama/llama-3.1-405b-instruct\",\n",
        "    messages=messages,\n",
        "    temperature=0.2\n",
        ")\n",
        "\n",
        "# Get text from response\n",
        "response_text = response.choices[0].message.content\n",
        "print(\"LLM generation:\", response_text)"
      ]
    }
  ],
  "metadata": {
    "kernelspec": {
      "display_name": "Python 3",
      "language": "python",
      "name": "python3"
    },
    "language_info": {
      "codemirror_mode": {
        "name": "ipython",
        "version": 3
      },
      "file_extension": ".py",
      "mimetype": "text/x-python",
      "name": "python",
      "nbconvert_exporter": "python",
      "pygments_lexer": "ipython3",
      "version": "3.10.8"
    },
    "colab": {
      "provenance": [],
      "include_colab_link": true
    }
  },
  "nbformat": 4,
  "nbformat_minor": 0
}